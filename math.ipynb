{
 "cells": [
  {
   "cell_type": "markdown",
   "metadata": {},
   "source": [
    "# Theory\n",
    "\n",
    "## Description\n",
    "Inverted pendulum standing on a cart. Pendulum has mass $m$, length $l$, and angle to the vertical $\\theta$. Cart has mass $M$, and horizontal displacement $x$.\n",
    "\n",
    "## Calculations\n",
    "For a holonomic system with generalised coordinates $q_i$:\n",
    "$$\n",
    "\\frac{d}{dt} \\left[ \\frac{\\partial T}{\\partial \\dot{q}_i} \\right] - \\frac{\\partial T}{\\partial q_i} + \\frac{\\partial V}{\\partial q_i} = Q_i\n",
    "$$\n",
    "where $T$ is the total kinetic energy, $V$ is the total potential energy, and $Q_i$ are the nonconservative generalised forces.\n",
    "$$\n",
    "V = (\\cos{\\theta} - 1) m g \\frac{l}{2}\n",
    "$$\n",
    "$$\n",
    "T = \\frac{1}{2} M \\dot{x}^2 + \\frac{1}{2} \\cdot \\frac{1}{12} m l^2 \\dot{\\theta^2} + \\frac{1}{2} m ((\\dot{x}+\\dot{\\theta}\\frac{l}{2}\\cos{\\theta})^2 + (\\dot{\\theta}\\frac{l}{2}\\sin{\\theta})^2)\n",
    "$$\n",
    "By substituting and simplifying, you can obtain the following equations of motions.\n",
    "$$\n",
    "(M + m) \\ddot{x} + m l \\cos{\\theta} \\ddot{\\theta} - m l \\sin{\\theta} \\dot{\\theta}^2 = 0\n",
    "$$\n",
    "$$\n",
    "m l \\cos{\\theta} \\ddot{x} + \\frac{1}{3} m l^2 \\ddot{\\theta} + m g \\frac{l}{2} \\sin{\\theta} = 0\n",
    "$$\n",
    "We are interested in finding $\\ddot{\\theta}$ as a function of other parameters for our physics engine.\n",
    "$$\n",
    "\\boxed{\\ddot{\\theta} = -\\frac{3}{l} \\cos{\\theta} \\ddot{x} - \\frac{3g}{2l} \\sin{\\theta}}\n",
    "$$\n"
   ]
  }
 ],
 "metadata": {
  "language_info": {
   "name": "python"
  }
 },
 "nbformat": 4,
 "nbformat_minor": 2
}
